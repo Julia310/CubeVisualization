{
 "cells": [
  {
   "cell_type": "markdown",
   "id": "8455c124-9610-42ff-9a22-6bf95ee4188b",
   "metadata": {},
   "source": [
    "# Lexcube Visualization"
   ]
  },
  {
   "cell_type": "markdown",
   "id": "3c395b22-29b1-4901-af40-aec62889dccf",
   "metadata": {},
   "source": [
    "### 1. Import Libraries"
   ]
  },
  {
   "cell_type": "code",
   "execution_count": 1,
   "id": "0e003f70-35c6-49ae-bf5e-86e12b77f688",
   "metadata": {},
   "outputs": [],
   "source": [
    "import lexcube\n",
    "import xarray as xr\n",
    "import numpy as np\n",
    "import pandas as pd\n",
    "import dask.array as da\n",
    "import matplotlib.pyplot as plt"
   ]
  },
  {
   "cell_type": "markdown",
   "id": "26694469-6aba-4234-965e-1787c949ea45",
   "metadata": {},
   "source": [
    "### 2. Display Data Cube"
   ]
  },
  {
   "cell_type": "code",
   "execution_count": 2,
   "id": "c63c5728-af0f-4eca-b16e-c0fd6e55a93d",
   "metadata": {
    "tags": []
   },
   "outputs": [
    {
     "name": "stdout",
     "output_type": "stream",
     "text": [
      "(1200, 101, 100)\n"
     ]
    },
    {
     "data": {
      "application/vnd.jupyter.widget-view+json": {
       "model_id": "01526c928d1a4b7d8e8792f159915759",
       "version_major": 2,
       "version_minor": 0
      },
      "text/plain": [
       "Cube3DWidget(api_metadata={'/api': {'status': 'ok', 'api_version': 4}, '/api/cubes': [{'id': 'default', 'short…"
      ]
     },
     "execution_count": 2,
     "metadata": {},
     "output_type": "execute_result"
    }
   ],
   "source": [
    "# Load the data as a Dask array\n",
    "dask_array = da.from_zarr(\"/home/julia/CubeVisualization/even_smaller_subcube.zarr\")\n",
    "#dask_array = da.from_zarr(\"/home/julia/CubeVisualization/subcube.zarr\")\n",
    "\n",
    "# Check the shape to confirm dimensions\n",
    "print(dask_array.shape)\n",
    "\n",
    "# Create a range of datetime objects for the 'time' dimension if needed\n",
    "# Adjust this according to your specific dataset\n",
    "time = pd.date_range(start='2020-07-21', periods=dask_array.shape[0], freq='0.5S')\n",
    "\n",
    "# Create an xarray DataArray\n",
    "# Replace 'channel' and 'freq' with the actual range or labels as per your data\n",
    "ds = xr.DataArray(dask_array, dims=['time', 'channel', 'freq'], coords={'time': time})\n",
    "\n",
    "# Use lexcube.Cube3DWidget\n",
    "lexcube.Cube3DWidget(ds)"
   ]
  }
 ],
 "metadata": {
  "kernelspec": {
   "display_name": "Python 3 (ipykernel)",
   "language": "python",
   "name": "python3"
  },
  "language_info": {
   "codemirror_mode": {
    "name": "ipython",
    "version": 3
   },
   "file_extension": ".py",
   "mimetype": "text/x-python",
   "name": "python",
   "nbconvert_exporter": "python",
   "pygments_lexer": "ipython3",
   "version": "3.11.5"
  }
 },
 "nbformat": 4,
 "nbformat_minor": 5
}
